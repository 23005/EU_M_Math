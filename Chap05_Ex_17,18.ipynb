{
  "nbformat": 4,
  "nbformat_minor": 0,
  "metadata": {
    "colab": {
      "provenance": [],
      "authorship_tag": "ABX9TyPSHvj5QiXP6MkjxOCH4TNu",
      "include_colab_link": true
    },
    "kernelspec": {
      "name": "python3",
      "display_name": "Python 3"
    },
    "language_info": {
      "name": "python"
    }
  },
  "cells": [
    {
      "cell_type": "markdown",
      "metadata": {
        "id": "view-in-github",
        "colab_type": "text"
      },
      "source": [
        "<a href=\"https://colab.research.google.com/github/23005/EU_M_Math/blob/main/Chap05_Ex_17%2C18.ipynb\" target=\"_parent\"><img src=\"https://colab.research.google.com/assets/colab-badge.svg\" alt=\"Open In Colab\"/></a>"
      ]
    },
    {
      "cell_type": "code",
      "execution_count": 2,
      "metadata": {
        "colab": {
          "base_uri": "https://localhost:8080/",
          "height": 35
        },
        "id": "wFV-1u2UaKLB",
        "outputId": "aeb6cf9a-5ab9-43b7-df51-c7c7589f74bf"
      },
      "outputs": [
        {
          "output_type": "execute_result",
          "data": {
            "text/plain": [
              "'%.3f'"
            ],
            "application/vnd.google.colaboratory.intrinsic+json": {
              "type": "string"
            }
          },
          "metadata": {},
          "execution_count": 2
        }
      ],
      "source": [
        "import numpy as np\n",
        "import scipy as sp\n",
        "from scipy.optimize import fsolve\n",
        "%precision 3"
      ]
    },
    {
      "cell_type": "code",
      "source": [
        "#Ex-17\n",
        "def f(x):\n",
        "  y = 5*x - 10\n",
        "  return y\n",
        "\n",
        "x = fsolve(f,0)\n",
        "print(x)"
      ],
      "metadata": {
        "colab": {
          "base_uri": "https://localhost:8080/"
        },
        "id": "QNak13geaPUP",
        "outputId": "699c2e3e-da11-4131-982d-d779f3c7d363"
      },
      "execution_count": 3,
      "outputs": [
        {
          "output_type": "stream",
          "name": "stdout",
          "text": [
            "[2.]\n"
          ]
        }
      ]
    },
    {
      "cell_type": "code",
      "source": [
        "#Ex-18\n",
        "def f2(x):\n",
        "  y = x**3 - 2*x**2 - 11*x + 12\n",
        "  return y\n",
        "\n",
        "x2 = fsolve(f2,-3)\n",
        "x3 = fsolve(f2,1)\n",
        "x4 = fsolve(f2,4)\n",
        "print(x2,x3,x4)"
      ],
      "metadata": {
        "colab": {
          "base_uri": "https://localhost:8080/"
        },
        "id": "-zGNqZ_7bjIT",
        "outputId": "1827a97e-44b8-4f86-e3ce-5012696f7677"
      },
      "execution_count": 4,
      "outputs": [
        {
          "output_type": "stream",
          "name": "stdout",
          "text": [
            "[-3.] [1.] [4.]\n"
          ]
        }
      ]
    }
  ]
}