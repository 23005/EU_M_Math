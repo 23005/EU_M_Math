{
  "nbformat": 4,
  "nbformat_minor": 0,
  "metadata": {
    "colab": {
      "provenance": [],
      "authorship_tag": "ABX9TyNIruQJkpCCv1MNtqjng976",
      "include_colab_link": true
    },
    "kernelspec": {
      "name": "python3",
      "display_name": "Python 3"
    },
    "language_info": {
      "name": "python"
    }
  },
  "cells": [
    {
      "cell_type": "markdown",
      "metadata": {
        "id": "view-in-github",
        "colab_type": "text"
      },
      "source": [
        "<a href=\"https://colab.research.google.com/github/23005/EU_M_Math/blob/main/Chap03_Cm-2.ipynb\" target=\"_parent\"><img src=\"https://colab.research.google.com/assets/colab-badge.svg\" alt=\"Open In Colab\"/></a>"
      ]
    },
    {
      "cell_type": "code",
      "execution_count": 2,
      "metadata": {
        "colab": {
          "base_uri": "https://localhost:8080/",
          "height": 35
        },
        "id": "L0u01Q5sJfJK",
        "outputId": "18637fbe-ab50-40c3-c24e-1f320711ce1c"
      },
      "outputs": [
        {
          "output_type": "execute_result",
          "data": {
            "text/plain": [
              "'%.3f'"
            ],
            "application/vnd.google.colaboratory.intrinsic+json": {
              "type": "string"
            }
          },
          "metadata": {},
          "execution_count": 2
        }
      ],
      "source": [
        "import numpy as np\n",
        "import scipy as sp\n",
        "import pandas as pd\n",
        "from pandas import Series,DataFrame\n",
        "\n",
        "import matplotlib.pyplot as plt\n",
        "import matplotlib as mpl\n",
        "import seaborn as sns\n",
        "sns.set()\n",
        "%matplotlib inline\n",
        "\n",
        "%precision 3"
      ]
    },
    {
      "cell_type": "code",
      "source": [
        "import requests,zipfile\n",
        "from io import StringIO\n",
        "import io"
      ],
      "metadata": {
        "id": "1pelvi9NeVPm"
      },
      "execution_count": 3,
      "outputs": []
    },
    {
      "cell_type": "code",
      "source": [
        "url = 'https://archive.ics.uci.edu/ml/machine-learning-databases/00356/student.zip'\n",
        "r = requests.get(url, stream=True)\n",
        "z = zipfile.ZipFile(io.BytesIO(r.content))\n",
        "z.extractall()"
      ],
      "metadata": {
        "id": "tAouJ4fxfA9i"
      },
      "execution_count": 4,
      "outputs": []
    },
    {
      "cell_type": "code",
      "source": [
        "student_data_math = pd.read_csv('student-mat.csv', sep=';')"
      ],
      "metadata": {
        "id": "DEg-hvVNfzNk"
      },
      "execution_count": 5,
      "outputs": []
    },
    {
      "cell_type": "code",
      "source": [
        "student_data_math_F = student_data_math[student_data_math.sex=='F']\n",
        "student_data_math_M = student_data_math[student_data_math.sex=='M']\n",
        "\n",
        "asc_F_G1 = sorted(student_data_math_F.G1)\n",
        "asc_M_G1 = sorted(student_data_math_M.G1)\n",
        "sorted_F_G1 = np.array([asc_F_G1])\n",
        "sorted_M_G1 = np.array([asc_M_G1])"
      ],
      "metadata": {
        "id": "nXhwF1bcgZyG"
      },
      "execution_count": 14,
      "outputs": []
    },
    {
      "cell_type": "code",
      "source": [
        "len_F = np.arange(len(asc_F_G1))\n",
        "len_M = np.arange(len(asc_M_G1))"
      ],
      "metadata": {
        "id": "RvdIoHKgXk6X"
      },
      "execution_count": 9,
      "outputs": []
    },
    {
      "cell_type": "code",
      "source": [
        "plt.plot(len_F/len_F.max(), sorted_F_G1.cumsum()/sorted_F_G1.sum(), label ='F')\n",
        "plt.plot(len_M/len_M.max(), sorted_M_G1.cumsum()/sorted_M_G1.sum(), label='M')"
      ],
      "metadata": {
        "colab": {
          "base_uri": "https://localhost:8080/",
          "height": 451
        },
        "id": "PZVveQTHXlPY",
        "outputId": "f7c405e9-4674-459f-d226-47bcfb7e6bc2"
      },
      "execution_count": 15,
      "outputs": [
        {
          "output_type": "execute_result",
          "data": {
            "text/plain": [
              "[<matplotlib.lines.Line2D at 0x797824333100>]"
            ]
          },
          "metadata": {},
          "execution_count": 15
        },
        {
          "output_type": "display_data",
          "data": {
            "text/plain": [
              "<Figure size 640x480 with 1 Axes>"
            ],
            "image/png": "[encoded data removed]"
          },
          "metadata": {}
        }
      ]
    },
    {
      "cell_type": "code",
      "source": [
        "m = sorted_F_G1.mean()\n",
        "n = len(asc_F_G1)\n",
        "a = 2*m*(n*(n-1))"
      ],
      "metadata": {
        "id": "zLstOeKBdrwd"
      },
      "execution_count": 43,
      "outputs": []
    },
    {
      "cell_type": "code",
      "source": [
        "def gini(data, data2):\n",
        "  m = data.mean()\n",
        "  n = len(data2)\n",
        "  a = 2*m*(n*(n-1))\n",
        "  datasum = 0\n",
        "  for i in range(n):\n",
        "    for j in range(n):\n",
        "      datasum = datasum + (abs(data2[i]-data2[j]))\n",
        "  return(datasum/a)"
      ],
      "metadata": {
        "id": "DVhaSbNZaAXP"
      },
      "execution_count": 48,
      "outputs": []
    },
    {
      "cell_type": "code",
      "source": [
        "print('一期目の女の成績のジニ係数は', gini(sorted_F_G1, asc_F_G1))\n",
        "print('一期目の男の成績のジニ係数は', gini(sorted_M_G1, asc_M_G1))"
      ],
      "metadata": {
        "colab": {
          "base_uri": "https://localhost:8080/"
        },
        "id": "Gi-wEc7rcvuS",
        "outputId": "73e9209a-d0d4-4e43-fd0a-9cf950e64cf2"
      },
      "execution_count": 49,
      "outputs": [
        {
          "output_type": "stream",
          "name": "stdout",
          "text": [
            "一期目の女の成績のジニ係数は 0.17321104047342556\n",
            "一期目の男の成績のジニ係数は 0.17289810547875065\n"
          ]
        }
      ]
    }
  ]
}