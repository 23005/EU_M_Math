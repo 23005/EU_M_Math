{
  "nbformat": 4,
  "nbformat_minor": 0,
  "metadata": {
    "colab": {
      "provenance": [],
      "mount_file_id": "1x8HKalIRe_2RxuyPNX9GbKw3RMfcV78U",
      "authorship_tag": "ABX9TyNftr49ofLqgrN2OHZCfj0d",
      "include_colab_link": true
    },
    "kernelspec": {
      "name": "python3",
      "display_name": "Python 3"
    },
    "language_info": {
      "name": "python"
    }
  },
  "cells": [
    {
      "cell_type": "markdown",
      "metadata": {
        "id": "view-in-github",
        "colab_type": "text"
      },
      "source": [
        "<a href=\"https://colab.research.google.com/github/23005/EU_M_Math/blob/main/Chap01_Cm-01.ipynb\" target=\"_parent\"><img src=\"https://colab.research.google.com/assets/colab-badge.svg\" alt=\"Open In Colab\"/></a>"
      ]
    },
    {
      "cell_type": "code",
      "execution_count": null,
      "metadata": {
        "colab": {
          "base_uri": "https://localhost:8080/"
        },
        "id": "QotgTwLAehOq",
        "outputId": "f20abb47-610c-4369-9ed9-69d49033435c"
      },
      "outputs": [
        {
          "output_type": "stream",
          "name": "stdout",
          "text": [
            "Prime numbers up to 10 are: [2, 3, 5, 7]\n"
          ]
        }
      ],
      "source": [
        "def is_prime(num):\n",
        "    if num <= 1:\n",
        "        return False\n",
        "    for i in range(2, int(num ** 0.5) + 1):\n",
        "        if num % i == 0:\n",
        "            return False\n",
        "    return True\n",
        "\n",
        "def prime_numbers_up_to_n(n):\n",
        "    primes = []\n",
        "    for num in range(2, n + 1):\n",
        "        if is_prime(num):\n",
        "            primes.append(num)\n",
        "    return primes\n",
        "\n",
        "if __name__ == \"__main__\":\n",
        "    n = 10\n",
        "    primes = prime_numbers_up_to_n(n)\n",
        "    print(\"Prime numbers up to\", n, \"are:\", primes)\n"
      ]
    },
    {
      "cell_type": "code",
      "source": [
        "def is_prime(num):\n",
        "    if num <= 1:\n",
        "        return False\n",
        "    for i in range(2, int(num ** 0.5) + 1):\n",
        "        if num % i == 0:\n",
        "            return False\n",
        "    return True\n",
        "\n",
        "def prime_numbers_up_to_n(N):\n",
        "    primes = []\n",
        "    for num in range(2, N + 1):\n",
        "        if is_prime(num):\n",
        "            primes.append(num)\n",
        "    return primes\n",
        "\n",
        "if __name__ == \"__main__\":\n",
        "    N = int(input(\"Enter a natural number N: \"))\n",
        "    primes = prime_numbers_up_to_n(N)\n",
        "    print(\"Prime numbers up to\", N, \"are:\", primes)"
      ],
      "metadata": {
        "colab": {
          "base_uri": "https://localhost:8080/"
        },
        "id": "wtXbVxiajv-M",
        "outputId": "3657a724-7213-4c67-b260-42ee3e72d58c"
      },
      "execution_count": null,
      "outputs": [
        {
          "output_type": "stream",
          "name": "stdout",
          "text": [
            "Enter a natural number N: 65\n",
            "Prime numbers up to 65 are: [2, 3, 5, 7, 11, 13, 17, 19, 23, 29, 31, 37, 41, 43, 47, 53, 59, 61]\n"
          ]
        }
      ]
    }
  ]
}