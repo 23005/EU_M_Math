{
  "nbformat": 4,
  "nbformat_minor": 0,
  "metadata": {
    "colab": {
      "provenance": [],
      "authorship_tag": "ABX9TyNH00mgWhJr8G34It2PCmr4",
      "include_colab_link": true
    },
    "kernelspec": {
      "name": "python3",
      "display_name": "Python 3"
    },
    "language_info": {
      "name": "python"
    }
  },
  "cells": [
    {
      "cell_type": "markdown",
      "metadata": {
        "id": "view-in-github",
        "colab_type": "text"
      },
      "source": [
        "<a href=\"https://colab.research.google.com/github/23005/EU_M_Math/blob/main/Chap04_Ex_13.ipynb\" target=\"_parent\"><img src=\"https://colab.research.google.com/assets/colab-badge.svg\" alt=\"Open In Colab\"/></a>"
      ]
    },
    {
      "cell_type": "code",
      "execution_count": null,
      "metadata": {
        "id": "L0u01Q5sJfJK"
      },
      "outputs": [],
      "source": [
        "import numpy as np\n",
        "import scipy as sp\n",
        "import pandas as pd"
      ]
    },
    {
      "cell_type": "code",
      "source": [
        "import requests,zipfile\n",
        "from io import StringIO\n",
        "import io"
      ],
      "metadata": {
        "id": "1pelvi9NeVPm"
      },
      "execution_count": null,
      "outputs": []
    },
    {
      "cell_type": "code",
      "source": [
        "url = 'https://archive.ics.uci.edu/ml/machine-learning-databases/00356/student.zip'\n",
        "r = requests.get(url, stream=True)\n",
        "z = zipfile.ZipFile(io.BytesIO(r.content))\n",
        "z.extractall()"
      ],
      "metadata": {
        "id": "tAouJ4fxfA9i"
      },
      "execution_count": null,
      "outputs": []
    },
    {
      "cell_type": "code",
      "source": [
        "student_data_math = pd.read_csv('student-mat.csv', sep=';')\n",
        "student_data_por = pd.read_csv('student-por.csv', sep=';')"
      ],
      "metadata": {
        "id": "DEg-hvVNfzNk"
      },
      "execution_count": null,
      "outputs": []
    },
    {
      "cell_type": "code",
      "source": [
        "student_data_merge = pd.merge(student_data_math, student_data_por, on=['school','sex','age','address','famsize','Pstatus','Medu','Fedu','Mjob','Fjob','reason','nursery','internet'], suffixes=('_math', '_por'))"
      ],
      "metadata": {
        "id": "XqgD4jjfIiRX"
      },
      "execution_count": null,
      "outputs": []
    },
    {
      "cell_type": "code",
      "source": [
        "from scipy import stats\n",
        "t, p2 = stats.ttest_rel(student_data_merge.G2_math, student_data_merge.G2_por)\n",
        "if p2 < 0.01:\n",
        "  print('数学とポルトガルの成績のG2は差がある')\n",
        "else:\n",
        "  print('数学とポルトガルの成績のG2は差がない')"
      ],
      "metadata": {
        "colab": {
          "base_uri": "https://localhost:8080/"
        },
        "id": "CDtE8Sc2N3ql",
        "outputId": "c7cd8fae-bd45-4828-df5f-db06811b3147"
      },
      "execution_count": 23,
      "outputs": [
        {
          "output_type": "stream",
          "name": "stdout",
          "text": [
            "数学とポルトガルの成績のG2は差がある\n"
          ]
        }
      ]
    },
    {
      "cell_type": "code",
      "source": [
        "t, p3 = stats.ttest_rel(student_data_merge.G3_math, student_data_merge.G3_por)\n",
        "if p3 < 0.01:\n",
        "  print('数学とポルトガルの成績のG3は差がある')\n",
        "else:\n",
        "  print('数学とポルトガルの成績のG3は差がない')"
      ],
      "metadata": {
        "id": "4CmXWIq4WYrQ",
        "colab": {
          "base_uri": "https://localhost:8080/"
        },
        "outputId": "863f89c5-4e2a-44dc-e247-6f2b75d854ce"
      },
      "execution_count": 24,
      "outputs": [
        {
          "output_type": "stream",
          "name": "stdout",
          "text": [
            "数学とポルトガルの成績のG3は差がある\n"
          ]
        }
      ]
    }
  ]
}