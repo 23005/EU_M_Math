{
  "nbformat": 4,
  "nbformat_minor": 0,
  "metadata": {
    "colab": {
      "provenance": [],
      "toc_visible": true,
      "authorship_tag": "ABX9TyPzuW9fHpVRUf2z2Gvjdbzi",
      "include_colab_link": true
    },
    "kernelspec": {
      "name": "python3",
      "display_name": "Python 3"
    },
    "language_info": {
      "name": "python"
    }
  },
  "cells": [
    {
      "cell_type": "markdown",
      "metadata": {
        "id": "view-in-github",
        "colab_type": "text"
      },
      "source": [
        "<a href=\"https://colab.research.google.com/github/23005/EU_M_Math/blob/main/Chap02_Cm-01%2C02%2C03.ipynb\" target=\"_parent\"><img src=\"https://colab.research.google.com/assets/colab-badge.svg\" alt=\"Open In Colab\"/></a>"
      ]
    },
    {
      "cell_type": "code",
      "execution_count": 2,
      "metadata": {
        "colab": {
          "base_uri": "https://localhost:8080/"
        },
        "id": "e37UkG11zw1R",
        "outputId": "6c5cf4c7-e8af-404a-b697-7d985d657665"
      },
      "outputs": [
        {
          "output_type": "stream",
          "name": "stdout",
          "text": [
            "[0.76426136 0.22733263 0.89139691 ... 0.78018311 0.70171169 0.90265215] [0.25306591 0.54306796 0.43268436 ... 0.42438823 0.01922825 0.18882464]\n"
          ]
        }
      ],
      "source": [
        "import numpy as np\n",
        "#　Nを乱数の発生数とする\n",
        "N = 10**4\n",
        "x = np.random.uniform(0, 1, N)\n",
        "y = np.random.uniform(0, 1, N)\n",
        "\n",
        "print(x,y)"
      ]
    },
    {
      "cell_type": "code",
      "source": [
        "import math\n",
        "\n",
        "x_inside = []\n",
        "y_inside = []\n",
        "x_outside = []\n",
        "y_outside = []\n",
        "\n",
        "for i in range(0,N):\n",
        "    d = math.hypot(x[i], y[i])\n",
        "    if d < 1:\n",
        "        x_inside.append(x[i])\n",
        "        y_inside.append(y[i])\n",
        "    else:\n",
        "        x_outside.append(x[i])\n",
        "        y_outside.append(y[i])\n",
        "\n",
        "    i += 1\n",
        "\n",
        "x_inside_array = np.array([x_inside])\n",
        "\n",
        "print(x_inside_array.size)"
      ],
      "metadata": {
        "colab": {
          "base_uri": "https://localhost:8080/"
        },
        "id": "b2KBli2N1OLY",
        "outputId": "4744aad4-a617-4c2f-d52b-01e60beb3d34"
      },
      "execution_count": 59,
      "outputs": [
        {
          "output_type": "stream",
          "name": "stdout",
          "text": [
            "7951\n"
          ]
        }
      ]
    },
    {
      "cell_type": "code",
      "source": [
        "pi = 4*x_inside_array.size/10**4\n",
        "\n",
        "print(pi)"
      ],
      "metadata": {
        "colab": {
          "base_uri": "https://localhost:8080/"
        },
        "id": "KtvhNgAfcWQN",
        "outputId": "2302b469-63b3-4af3-a173-892ebe46fbc4"
      },
      "execution_count": 61,
      "outputs": [
        {
          "output_type": "stream",
          "name": "stdout",
          "text": [
            "3.1804\n"
          ]
        }
      ]
    }
  ]
}