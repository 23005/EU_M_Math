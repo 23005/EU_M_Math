{
  "nbformat": 4,
  "nbformat_minor": 0,
  "metadata": {
    "colab": {
      "provenance": [],
      "authorship_tag": "ABX9TyNLfAl4ZfsCJrynxLB9jN+n",
      "include_colab_link": true
    },
    "kernelspec": {
      "name": "python3",
      "display_name": "Python 3"
    },
    "language_info": {
      "name": "python"
    }
  },
  "cells": [
    {
      "cell_type": "markdown",
      "metadata": {
        "id": "view-in-github",
        "colab_type": "text"
      },
      "source": [
        "<a href=\"https://colab.research.google.com/github/23005/EU_M_Math/blob/main/Chap05_Cm_01%2C02%2C03.ipynb\" target=\"_parent\"><img src=\"https://colab.research.google.com/assets/colab-badge.svg\" alt=\"Open In Colab\"/></a>"
      ]
    },
    {
      "cell_type": "code",
      "execution_count": 2,
      "metadata": {
        "colab": {
          "base_uri": "https://localhost:8080/",
          "height": 35
        },
        "id": "2mmWq_QkPqZW",
        "outputId": "c47f1bc6-298c-4eef-cba5-58ceb388a295"
      },
      "outputs": [
        {
          "output_type": "execute_result",
          "data": {
            "text/plain": [
              "'%.3f'"
            ],
            "application/vnd.google.colaboratory.intrinsic+json": {
              "type": "string"
            }
          },
          "metadata": {},
          "execution_count": 2
        }
      ],
      "source": [
        "import numpy as np\n",
        "import scipy as sp\n",
        "from scipy import integrate\n",
        "import math\n",
        "from scipy.optimize import minimize\n",
        "%precision 3"
      ]
    },
    {
      "cell_type": "code",
      "source": [
        "#Cm-01\n",
        "A = np.array([[5, 1, 0, 1],\n",
        "             [1, 9, -5, 7],\n",
        "             [0, -5, 8, -3],\n",
        "             [1, 7, -3, 10]])\n",
        "b = np.array([2, 10, 5, 10])"
      ],
      "metadata": {
        "id": "NicQ_E24dFD0"
      },
      "execution_count": 3,
      "outputs": []
    },
    {
      "cell_type": "code",
      "source": [
        "L = sp.linalg.cholesky(A)\n",
        "t = sp.linalg.solve(L.T.conj(), b)\n",
        "x = sp.linalg.solve(L, t)\n",
        "\n",
        "print(x)"
      ],
      "metadata": {
        "colab": {
          "base_uri": "https://localhost:8080/"
        },
        "id": "2nVWM4kUddYj",
        "outputId": "0381163b-4d25-490e-fac8-55ad51813617"
      },
      "execution_count": 4,
      "outputs": [
        {
          "output_type": "stream",
          "name": "stdout",
          "text": [
            "[-0.051  2.157  2.01   0.098]\n"
          ]
        }
      ]
    },
    {
      "cell_type": "code",
      "source": [
        "#Cm-02\n",
        "integrate.dblquad(lambda x, y:1/(math.sqrt(x + y)*(1 + x + y)**2), 0, 1, lambda x: 0, lambda x: 1 - x)"
      ],
      "metadata": {
        "colab": {
          "base_uri": "https://localhost:8080/"
        },
        "id": "jMJoYnUueK5n",
        "outputId": "bff784a8-b129-43aa-d0bb-6206c9b3f1c3"
      },
      "execution_count": 8,
      "outputs": [
        {
          "output_type": "execute_result",
          "data": {
            "text/plain": [
              "(0.285, 0.000)"
            ]
          },
          "metadata": {},
          "execution_count": 8
        }
      ]
    },
    {
      "cell_type": "code",
      "source": [
        "#Cm-03\n",
        "def f(x):\n",
        "  y = x**2 + 1\n",
        "  return y\n",
        "\n",
        "def cons(x):\n",
        "  return (x + 1)\n",
        "\n",
        "cons = (\n",
        "    {'type': 'ineq', 'fun': cons},\n",
        ")\n",
        "x = -10\n",
        "\n",
        "sol = minimize(f, x0=x, constraints=cons, method=\"SLSQP\")\n",
        "\n",
        "print(sol)"
      ],
      "metadata": {
        "id": "ZreytRR-f2w-",
        "colab": {
          "base_uri": "https://localhost:8080/"
        },
        "outputId": "bf381a24-2cbe-48bb-a0ae-20c5448a0245"
      },
      "execution_count": 6,
      "outputs": [
        {
          "output_type": "stream",
          "name": "stdout",
          "text": [
            " message: Optimization terminated successfully\n",
            " success: True\n",
            "  status: 0\n",
            "     fun: 1.0\n",
            "       x: [ 0.000e+00]\n",
            "     nit: 2\n",
            "     jac: [ 1.490e-08]\n",
            "    nfev: 5\n",
            "    njev: 2\n"
          ]
        }
      ]
    }
  ]
}