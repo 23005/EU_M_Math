{
  "nbformat": 4,
  "nbformat_minor": 0,
  "metadata": {
    "colab": {
      "provenance": [],
      "authorship_tag": "ABX9TyMXEdSm6szUm2HGCF62zUBS",
      "include_colab_link": true
    },
    "kernelspec": {
      "name": "python3",
      "display_name": "Python 3"
    },
    "language_info": {
      "name": "python"
    }
  },
  "cells": [
    {
      "cell_type": "markdown",
      "metadata": {
        "id": "view-in-github",
        "colab_type": "text"
      },
      "source": [
        "<a href=\"https://colab.research.google.com/github/23005/EU_M_Math/blob/main/Chap08_Ex_04.ipynb\" target=\"_parent\"><img src=\"https://colab.research.google.com/assets/colab-badge.svg\" alt=\"Open In Colab\"/></a>"
      ]
    },
    {
      "cell_type": "code",
      "execution_count": 29,
      "metadata": {
        "id": "Zu35ApafFJfj"
      },
      "outputs": [],
      "source": [
        "import numpy as np\n",
        "import numpy.random as random\n",
        "import scipy as sp\n",
        "from pandas import Series, DataFrame\n",
        "import pandas as pd\n",
        "\n",
        "import sklearn\n",
        "from sklearn.model_selection import train_test_split\n",
        "from sklearn.linear_model import LinearRegression\n",
        "\n",
        "import requests, zipfile\n",
        "import io"
      ]
    },
    {
      "cell_type": "code",
      "source": [
        "url = 'http://archive.ics.uci.edu/ml/machine-learning-databases/autos/imports-85.data'\n",
        "r = requests.get(url).content\n",
        "auto = pd.read_csv(io.StringIO(r.decode('utf-8')), header=None)\n",
        "auto.columns = ['symboling','nomalized-losses','make','fuel-type','aspiration','num-of-doors', 'boy-style','drive-wheels','engine-location','wheel-base','length','width','height','curb-weight','engine-type','num-of-cylinders','engine-size','fuel-system','bore','stoke','compression-ratio','horsepower','peak-rpm','city-mpg','highway-mpg','price']\n"
      ],
      "metadata": {
        "id": "2yqonu-DIKwm"
      },
      "execution_count": 30,
      "outputs": []
    },
    {
      "cell_type": "code",
      "source": [
        "auto1 = auto[['price','horsepower','width','height']]\n",
        "auto1 = auto1.replace('?', np.nan).dropna()"
      ],
      "metadata": {
        "id": "kg5PlmqAIe7Q"
      },
      "execution_count": 31,
      "outputs": []
    },
    {
      "cell_type": "code",
      "source": [
        "from sklearn.linear_model import Ridge\n",
        "from sklearn.model_selection import train_test_split\n",
        "\n",
        "X = auto1.drop('price',axis=1)\n",
        "y = auto1['price']\n",
        "X_train, X_test, y_train, y_test = train_test_split(X, y, test_size=0.5, random_state=0)\n",
        "\n",
        "linear = LinearRegression()\n",
        "ridge = Ridge(random_state=0)\n",
        "\n",
        "for model in [linear, ridge]:\n",
        "    model.fit(X_train,y_train)\n",
        "    print('{}(train):{:.6f}'.format(model.__class__.__name__,model.score(X_train,y_train)))\n",
        "    print('{}(test):{:.6f}'.format(model.__class__.__name__,model.score(X_test,y_test)))"
      ],
      "metadata": {
        "colab": {
          "base_uri": "https://localhost:8080/"
        },
        "id": "X3cbzHYNFRF6",
        "outputId": "6a5ca9ed-d054-446b-ece6-ae02fcf3a04d"
      },
      "execution_count": 32,
      "outputs": [
        {
          "output_type": "stream",
          "name": "stdout",
          "text": [
            "LinearRegression(train):0.733358\n",
            "LinearRegression(test):0.737069\n",
            "Ridge(train):0.733355\n",
            "Ridge(test):0.737768\n"
          ]
        }
      ]
    },
    {
      "cell_type": "code",
      "source": [
        "#Ex-04\n",
        "\n",
        "auto2 = auto[['price','width','engine-size']]\n",
        "auto2 = auto2.replace('?', np.nan).dropna()\n",
        "\n",
        "X = auto2.drop('price', axis=1)\n",
        "y = auto2['price']\n",
        "\n",
        "X_train, X_test, y_train, y_test = train_test_split(X, y, test_size=0.5, random_state=0)\n",
        "linear = LinearRegression()\n",
        "ridge = Ridge(random_state=0)\n",
        "\n",
        "for model in [linear, ridge]:\n",
        "    model.fit(X_train,y_train)\n",
        "    print('{}(train):{:.6f}'.format(model.__class__.__name__,model.score(X_train,y_train)))\n",
        "    print('{}(test):{:.6f}'.format(model.__class__.__name__,model.score(X_test,y_test)))"
      ],
      "metadata": {
        "colab": {
          "base_uri": "https://localhost:8080/"
        },
        "id": "mq97k8dmIl6O",
        "outputId": "5e6b004b-290f-4e70-ad4f-1e33dde4b965"
      },
      "execution_count": 35,
      "outputs": [
        {
          "output_type": "stream",
          "name": "stdout",
          "text": [
            "LinearRegression(train):0.783189\n",
            "LinearRegression(test):0.778292\n",
            "Ridge(train):0.783187\n",
            "Ridge(test):0.778592\n"
          ]
        }
      ]
    }
  ]
}