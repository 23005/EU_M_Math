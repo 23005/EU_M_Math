{
  "nbformat": 4,
  "nbformat_minor": 0,
  "metadata": {
    "colab": {
      "provenance": [],
      "authorship_tag": "ABX9TyMgUePHwH8JjCb/8NXkg69v",
      "include_colab_link": true
    },
    "kernelspec": {
      "name": "python3",
      "display_name": "Python 3"
    },
    "language_info": {
      "name": "python"
    }
  },
  "cells": [
    {
      "cell_type": "markdown",
      "metadata": {
        "id": "view-in-github",
        "colab_type": "text"
      },
      "source": [
        "<a href=\"https://colab.research.google.com/github/23005/EU_M_Math/blob/main/Chap05_Ex_04%2C05%2C06_.ipynb\" target=\"_parent\"><img src=\"https://colab.research.google.com/assets/colab-badge.svg\" alt=\"Open In Colab\"/></a>"
      ]
    },
    {
      "cell_type": "code",
      "execution_count": 1,
      "metadata": {
        "colab": {
          "base_uri": "https://localhost:8080/",
          "height": 35
        },
        "id": "Oz3CljplMoqS",
        "outputId": "f726978d-7de5-4462-aeca-167655da1e60"
      },
      "outputs": [
        {
          "output_type": "execute_result",
          "data": {
            "text/plain": [
              "'%.3f'"
            ],
            "application/vnd.google.colaboratory.intrinsic+json": {
              "type": "string"
            }
          },
          "metadata": {},
          "execution_count": 1
        }
      ],
      "source": [
        "import numpy as np\n",
        "import scipy as sp\n",
        "import numpy.random as random\n",
        "%precision 3"
      ]
    },
    {
      "cell_type": "code",
      "source": [
        "sample_multi_array_data2 = np.arange(16).reshape(4,4)\n",
        "sample_multi_array_data2"
      ],
      "metadata": {
        "colab": {
          "base_uri": "https://localhost:8080/"
        },
        "id": "f4ldRDOFPpx8",
        "outputId": "d11e0bcb-2775-4ec2-ac40-cc1f1baf5abe"
      },
      "execution_count": 2,
      "outputs": [
        {
          "output_type": "execute_result",
          "data": {
            "text/plain": [
              "array([[ 0,  1,  2,  3],\n",
              "       [ 4,  5,  6,  7],\n",
              "       [ 8,  9, 10, 11],\n",
              "       [12, 13, 14, 15]])"
            ]
          },
          "metadata": {},
          "execution_count": 2
        }
      ]
    },
    {
      "cell_type": "code",
      "source": [
        "#Ex-04\n",
        "print('すべての要素の平方根：',np.sqrt(sample_multi_array_data2))"
      ],
      "metadata": {
        "colab": {
          "base_uri": "https://localhost:8080/"
        },
        "id": "5ISOmpJBQz4E",
        "outputId": "3e505880-4718-46d6-de97-2c0344d263d8"
      },
      "execution_count": 7,
      "outputs": [
        {
          "output_type": "stream",
          "name": "stdout",
          "text": [
            "すべての要素の平方根： [[0.    1.    1.414 1.732]\n",
            " [2.    2.236 2.449 2.646]\n",
            " [2.828 3.    3.162 3.317]\n",
            " [3.464 3.606 3.742 3.873]]\n"
          ]
        }
      ]
    },
    {
      "cell_type": "code",
      "source": [
        "#Ex-05\n",
        "print('最大値：',sample_multi_array_data2.max())\n",
        "print('最小値：',sample_multi_array_data2.min())\n",
        "print('合計値：',sample_multi_array_data2.sum())\n",
        "print('平均値：',sample_multi_array_data2.mean())"
      ],
      "metadata": {
        "colab": {
          "base_uri": "https://localhost:8080/"
        },
        "id": "bH6NBUXqP-yf",
        "outputId": "90110389-34ff-42e9-c611-73a2b2feef38"
      },
      "execution_count": 8,
      "outputs": [
        {
          "output_type": "stream",
          "name": "stdout",
          "text": [
            "最大値： 15\n",
            "最小値： 0\n",
            "合計値： 120\n",
            "平均値： 7.5\n"
          ]
        }
      ]
    },
    {
      "cell_type": "code",
      "source": [
        "#Ex-06\n",
        "print('対角成分の和：',np.trace(sample_multi_array_data2) )"
      ],
      "metadata": {
        "colab": {
          "base_uri": "https://localhost:8080/"
        },
        "id": "rsD70eBoQsW0",
        "outputId": "7202354a-4c62-46c3-d580-f79cf8683a68"
      },
      "execution_count": 9,
      "outputs": [
        {
          "output_type": "stream",
          "name": "stdout",
          "text": [
            "対角成分の和： 30\n"
          ]
        }
      ]
    }
  ]
}