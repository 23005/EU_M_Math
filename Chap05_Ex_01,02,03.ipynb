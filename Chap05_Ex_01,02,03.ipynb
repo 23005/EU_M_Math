{
  "nbformat": 4,
  "nbformat_minor": 0,
  "metadata": {
    "colab": {
      "provenance": [],
      "authorship_tag": "ABX9TyNBcc9bH3/7pIxh11lZZZ86",
      "include_colab_link": true
    },
    "kernelspec": {
      "name": "python3",
      "display_name": "Python 3"
    },
    "language_info": {
      "name": "python"
    }
  },
  "cells": [
    {
      "cell_type": "markdown",
      "metadata": {
        "id": "view-in-github",
        "colab_type": "text"
      },
      "source": [
        "<a href=\"https://colab.research.google.com/github/23005/EU_M_Math/blob/main/Chap05_Ex_01%2C02%2C03.ipynb\" target=\"_parent\"><img src=\"https://colab.research.google.com/assets/colab-badge.svg\" alt=\"Open In Colab\"/></a>"
      ]
    },
    {
      "cell_type": "code",
      "execution_count": 1,
      "metadata": {
        "colab": {
          "base_uri": "https://localhost:8080/",
          "height": 35
        },
        "id": "Oz3CljplMoqS",
        "outputId": "a023b3e7-2782-4afc-f1af-b76df23a0f0c"
      },
      "outputs": [
        {
          "output_type": "execute_result",
          "data": {
            "text/plain": [
              "'%.3f'"
            ],
            "application/vnd.google.colaboratory.intrinsic+json": {
              "type": "string"
            }
          },
          "metadata": {},
          "execution_count": 1
        }
      ],
      "source": [
        "import numpy as np\n",
        "import numpy.random as random\n",
        "%precision 3"
      ]
    },
    {
      "cell_type": "code",
      "source": [
        "sample_names = np.array(['a', 'b', 'c', 'd', 'a'])\n",
        "random.seed(0)\n",
        "data = random.randn(5,5)\n",
        "\n",
        "print(sample_names)\n",
        "print(data)"
      ],
      "metadata": {
        "colab": {
          "base_uri": "https://localhost:8080/"
        },
        "id": "TD7JAMQINI6B",
        "outputId": "7e858301-57e3-4a17-9c95-b5cf114badd1"
      },
      "execution_count": 2,
      "outputs": [
        {
          "output_type": "stream",
          "name": "stdout",
          "text": [
            "['a' 'b' 'c' 'd' 'a']\n",
            "[[ 1.764  0.4    0.979  2.241  1.868]\n",
            " [-0.977  0.95  -0.151 -0.103  0.411]\n",
            " [ 0.144  1.454  0.761  0.122  0.444]\n",
            " [ 0.334  1.494 -0.205  0.313 -0.854]\n",
            " [-2.553  0.654  0.864 -0.742  2.27 ]]\n"
          ]
        }
      ]
    },
    {
      "cell_type": "code",
      "source": [
        "#Ex-01\n",
        "data[sample_names == 'b']"
      ],
      "metadata": {
        "colab": {
          "base_uri": "https://localhost:8080/"
        },
        "id": "Wx3CR-GHNvzm",
        "outputId": "2a3021c5-153b-47cd-b0ab-5ef32a5913ea"
      },
      "execution_count": 3,
      "outputs": [
        {
          "output_type": "execute_result",
          "data": {
            "text/plain": [
              "array([[-0.977,  0.95 , -0.151, -0.103,  0.411]])"
            ]
          },
          "metadata": {},
          "execution_count": 3
        }
      ]
    },
    {
      "cell_type": "code",
      "source": [
        "#Ex-02\n",
        "data[sample_names != 'c']"
      ],
      "metadata": {
        "colab": {
          "base_uri": "https://localhost:8080/"
        },
        "id": "Oc9e_ihZOFPn",
        "outputId": "ee5db526-04bf-4968-f6c6-3d97d0ce6036"
      },
      "execution_count": 4,
      "outputs": [
        {
          "output_type": "execute_result",
          "data": {
            "text/plain": [
              "array([[ 1.764,  0.4  ,  0.979,  2.241,  1.868],\n",
              "       [-0.977,  0.95 , -0.151, -0.103,  0.411],\n",
              "       [ 0.334,  1.494, -0.205,  0.313, -0.854],\n",
              "       [-2.553,  0.654,  0.864, -0.742,  2.27 ]])"
            ]
          },
          "metadata": {},
          "execution_count": 4
        }
      ]
    },
    {
      "cell_type": "code",
      "source": [
        "#Ex-03\n",
        "x_array = np.array([1,2,3,4,5])\n",
        "y_array = np.array([6,7,8,9,10])\n",
        "cond_data = np.array([False,False,True,True,False])\n",
        "print(np.where(cond_data,x_array,y_array))"
      ],
      "metadata": {
        "colab": {
          "base_uri": "https://localhost:8080/"
        },
        "id": "fEoipVZFOjZH",
        "outputId": "8a522940-8e0a-416b-e8f8-900a70509eb6"
      },
      "execution_count": 6,
      "outputs": [
        {
          "output_type": "stream",
          "name": "stdout",
          "text": [
            "[ 6  7  3  4 10]\n"
          ]
        }
      ]
    }
  ]
}