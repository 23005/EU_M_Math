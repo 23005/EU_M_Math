{
  "nbformat": 4,
  "nbformat_minor": 0,
  "metadata": {
    "colab": {
      "provenance": [],
      "authorship_tag": "ABX9TyOrHolRwTBR/0hJB6ikELlv",
      "include_colab_link": true
    },
    "kernelspec": {
      "name": "python3",
      "display_name": "Python 3"
    },
    "language_info": {
      "name": "python"
    }
  },
  "cells": [
    {
      "cell_type": "markdown",
      "metadata": {
        "id": "view-in-github",
        "colab_type": "text"
      },
      "source": [
        "<a href=\"https://colab.research.google.com/github/23005/EU_M_Math/blob/main/Hw_02.ipynb\" target=\"_parent\"><img src=\"https://colab.research.google.com/assets/colab-badge.svg\" alt=\"Open In Colab\"/></a>"
      ]
    },
    {
      "cell_type": "markdown",
      "source": [
        "・ラッソとリッジ回帰で用いられる正則化項式のメリットについて調べ、Notebookの中にTextとして記述せよ\n",
        "\n",
        "正則化とは、過学習を防いで汎化性能（未知のデータへの対応能力）を高めるためのテクニックの一つで、モデルに「正則化項」というものを付けることでモデルの形が複雑になりすぎないように調整しようとするもの\n",
        "性能と複雑さ、すなわち過学習と未学習のバランスを取った学習が実現できる。\n",
        "正則化項が大きいほど、係数に対するペナルティが強くなり、モデルはより単純になるが、同時にデータの特徴を捉える能力も低下する。逆に、正則化項が小さい場合、モデルはデータに過剰に適合する傾向がある。"
      ],
      "metadata": {
        "id": "n5isOi3ddnvW"
      }
    }
  ]
}